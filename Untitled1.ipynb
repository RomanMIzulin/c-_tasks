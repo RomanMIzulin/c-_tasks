{
 "cells": [
  {
   "cell_type": "code",
   "execution_count": 1,
   "metadata": {},
   "outputs": [
    {
     "name": "stdout",
     "output_type": "stream",
     "text": [
      "Native byteorder:  little\n"
     ]
    },
    {
     "ename": "KeyError",
     "evalue": "0",
     "output_type": "error",
     "traceback": [
      "\u001b[0;31m---------------------------------------------------------------------------\u001b[0m",
      "\u001b[0;31mKeyError\u001b[0m                                  Traceback (most recent call last)",
      "\u001b[0;32m<ipython-input-1-3dcd886eba32>\u001b[0m in \u001b[0;36m<module>\u001b[0;34m()\u001b[0m\n\u001b[1;32m     26\u001b[0m \u001b[0;31m# readOne('pics'+'/'+'eee')\u001b[0m\u001b[0;34m\u001b[0m\u001b[0;34m\u001b[0m\u001b[0m\n\u001b[1;32m     27\u001b[0m \u001b[0mdata\u001b[0m \u001b[0;34m=\u001b[0m \u001b[0mreadFiles\u001b[0m\u001b[0;34m(\u001b[0m\u001b[0;34m'pics'\u001b[0m\u001b[0;34m)\u001b[0m\u001b[0;34m\u001b[0m\u001b[0m\n\u001b[0;32m---> 28\u001b[0;31m \u001b[0mdata\u001b[0m\u001b[0;34m[\u001b[0m\u001b[0;36m0\u001b[0m\u001b[0;34m]\u001b[0m\u001b[0;34m<\u001b[0m\u001b[0mdata\u001b[0m\u001b[0;34m[\u001b[0m\u001b[0;36m1\u001b[0m\u001b[0;34m]\u001b[0m\u001b[0;34m\u001b[0m\u001b[0m\n\u001b[0m",
      "\u001b[0;31mKeyError\u001b[0m: 0"
     ]
    }
   ],
   "source": [
    "from os import listdir\n",
    "import sys\n",
    "# bin(int.from_bytes(t.encode(), 'little'))\n",
    "def readOne(file):\n",
    "    lis = list()\n",
    "    with open(file,'rb') as f:\n",
    "        lis=[]\n",
    "        while(True):\n",
    "            t = f.read(1)\n",
    "            if t ==b'':\n",
    "                break\n",
    "            lis.append((t))\n",
    "    return lis\n",
    "\n",
    "def readFiles(direc):\n",
    "    d = dict()\n",
    "    fileNames =  [f for f in listdir(direc)]\n",
    "    for i in fileNames:\n",
    "        d.update({i:readOne(direc+'/'+i)})\n",
    "    return d\n",
    "\n",
    "\n",
    "print(\"Native byteorder: \", sys.byteorder)\n",
    "\n",
    "# print(readOne('./pics/'+l[0]))\n",
    "# readOne('pics'+'/'+'eee')\n",
    "data = readFiles('pics')\n",
    "data[0]<data[1]"
   ]
  },
  {
   "cell_type": "code",
   "execution_count": null,
   "metadata": {},
   "outputs": [],
   "source": []
  },
  {
   "cell_type": "code",
   "execution_count": null,
   "metadata": {},
   "outputs": [],
   "source": []
  }
 ],
 "metadata": {
  "kernelspec": {
   "display_name": "Python 3",
   "language": "python",
   "name": "python3"
  },
  "language_info": {
   "codemirror_mode": {
    "name": "ipython",
    "version": 3
   },
   "file_extension": ".py",
   "mimetype": "text/x-python",
   "name": "python",
   "nbconvert_exporter": "python",
   "pygments_lexer": "ipython3",
   "version": "3.7.0"
  }
 },
 "nbformat": 4,
 "nbformat_minor": 2
}
